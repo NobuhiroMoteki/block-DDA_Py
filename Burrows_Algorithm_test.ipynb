{
 "cells": [
  {
   "cell_type": "code",
   "execution_count": 661,
   "metadata": {},
   "outputs": [],
   "source": [
    "import numpy as np"
   ]
  },
  {
   "cell_type": "code",
   "execution_count": 662,
   "metadata": {},
   "outputs": [],
   "source": [
    "def application_function(f, n_ind, lf, k):\n",
    "    '''\n",
    "    ******* Input parameters ********\n",
    "     # n=[n1,n2,...,nM]  number of BT_blocks at each level, where M is the number of BT levels. 1D np.array with size M, dtype=int\n",
    "     f                 size of final dense f*f matrix (e.g., f=3 for 3*3 matrix)  scalar, dtype=int\n",
    "     n_ind             2 x M rectangular matrix indicating the position of each element in the MBT matrix,  2D np.array with size (2,M), dtype=int\n",
    "     # level             current BT level (level=1,...,M).\n",
    "     lf                physical length per lattice spacing (length scale factor)\n",
    "     k                 wavenumber in medium\n",
    "    *********************************\n",
    "    ******** Output *****************\n",
    "    MBT_elem           f x f general matrix of MBT level=M \n",
    "    *********************************\n",
    "    '''\n",
    "    Xkm= 1.0*(n_ind[0,:]-n_ind[1,:])*lf\n",
    "    Xkm_abs= np.linalg.norm(Xkm)\n",
    "    XkmXkm= np.outer(Xkm,Xkm)\n",
    "\n",
    "    if f == 3 :\n",
    "        if Xkm_abs == 0 :\n",
    "            MBT_elem= np.zeros((3,3))\n",
    "            return MBT_elem\n",
    "        Gkm= k*k*(np.eye(3)-1j*XkmXkm/Xkm_abs/Xkm_abs)\n",
    "        Gkm= Gkm-((1.0-1j*k*Xkm_abs)/Xkm_abs/Xkm_abs)*(np.eye(3)-3*XkmXkm/Xkm_abs/Xkm_abs)\n",
    "        Gkm= Gkm*np.exp(1j*k*Xkm_abs)/Xkm_abs\n",
    "        MBT_elem= -Gkm\n",
    "        return MBT_elem\n",
    "    elif f == 1:\n",
    "        return 1\n",
    "    else :\n",
    "        raise ValueError(\"f !=3 is unsupported in application function.\")\n"
   ]
  },
  {
   "cell_type": "code",
   "execution_count": 663,
   "metadata": {},
   "outputs": [],
   "source": [
    "def BT_fft(n,f,n_ind,level,lf,k):\n",
    "    '''\n",
    "    ******* Input parameters ********\n",
    "     n=[n1,n2,...,nM]  number of BT_blocks at each level, where M is the number of BT levels. 1D np.array with size M, dtype=int\n",
    "     f                 size of final dense f*f matrix (e.g., f=3 for 3*3 matrix) scalar, dtype=int\n",
    "     n_ind             2 x M rectangular matrix indicating the position of each element in the MBT matrix 2D np.array with size (2,M), dtype=int\n",
    "     level             current BT level (level=1,...,M).\n",
    "     lf                physical length per lattice spacing (length scale factor)\n",
    "     k                 wavenumber in medium\n",
    "    *********************************\n",
    "    ******** Output *****************\n",
    "    MBT_elem           f x f general matrix of MBT level=M in Eigen::MatrixXcd\n",
    "    *********************************\n",
    "    '''\n",
    "    Au= np.zeros(0,dtype=complex)\n",
    "    if level == len(n)+1 :\n",
    "        # terminate recursion\n",
    "        Au.resize(f*f)\n",
    "        Au= (np.flipud(application_function(f,n_ind,lf,k)).T).flatten()\n",
    "        return Au\n",
    "    else :\n",
    "        Au.resize(f*f*np.prod(2*n[level-1:]-1))\n",
    "        this_n= n[level-1]\n",
    "        b_edge= f*f*np.prod(2*n[level:]-1)\n",
    "        #lower triangular and diagonal blocks\n",
    "        for i in range(this_n,0,-1):\n",
    "            n_ind[1,level-1]= 1\n",
    "            n_ind[0,level-1]= i\n",
    "            Au[b_edge*(this_n-i):b_edge*(this_n-i+1)]= BT_fft(n,f,n_ind,level+1,lf,k)\n",
    "        #upper triangular blocks\n",
    "        for i in range(2,this_n+1,1):\n",
    "            n_ind[1,level-1]= i\n",
    "            Au[b_edge*(i+this_n-2):b_edge*(i+this_n-1)]= BT_fft(n,f,n_ind,level+1,lf,k)\n",
    "        return Au"
   ]
  },
  {
   "cell_type": "code",
   "execution_count": 664,
   "metadata": {},
   "outputs": [],
   "source": [
    "def BT_pad(n,f,x):\n",
    "    '''\n",
    "    Generation of xz by inserting zeros into x\n",
    "    ****** Input parameters **************\n",
    "    n=[n1,n2,...,nM]     number of BT_blocks at each level, where M is the number of BT levels. 1D np.array with size M, dtype=int\n",
    "    f                    size of final dense f*f matrix (e.g., f=3 for 3*3 matrix)\n",
    "    x                    input vector before padding\n",
    "    ****** Output ************************\n",
    "    xz                   padded vector\n",
    "    **************************************\n",
    "    '''\n",
    "    xz= np.zeros(0,dtype=complex)\n",
    "    lenxz= 0\n",
    "    if len(n) < 1 :\n",
    "        lenxz= len(x)+f*f-f\n",
    "        xz.resize(lenxz)\n",
    "        xz[0:len(x)]= x\n",
    "        xz[len(x):lenxz]= np.zeros(lenxz-len(x),dtype=complex)\n",
    "        return xz\n",
    "    else :\n",
    "        b_edge= f*np.prod(n[1:])\n",
    "        this_n= n[0]\n",
    "\n",
    "        for i in range(1, this_n+1):\n",
    "            lenxz_old= len(xz)\n",
    "            lenblk= len(BT_pad(n[1:],f,x[(i-1)*b_edge:i*b_edge]))\n",
    "            if len(n) > 1 :\n",
    "                lenxz= lenxz_old+lenblk+(n[1]-1)*f*f*np.prod(2*n[2:]-1)\n",
    "                xz= np.pad(xz,(0,lenxz-len(xz)))\n",
    "                xz[lenxz_old:]= np.zeros(len(xz)-lenxz_old, dtype=complex)\n",
    "                xz[lenxz_old:lenxz_old+lenblk]= BT_pad(n[1:],f,x[(i-1)*b_edge:i*b_edge])\n",
    "            else :\n",
    "                lenxz= lenxz_old+lenblk\n",
    "                xz= np.pad(xz, (0,lenxz-len(xz)))\n",
    "                xz[lenxz_old:]= BT_pad(n[1:],f,x[(i-1)*b_edge:i*b_edge])\n",
    "        return xz"
   ]
  },
  {
   "cell_type": "code",
   "execution_count": 665,
   "metadata": {},
   "outputs": [],
   "source": [
    "def BT_reconstruct(n,f,bz):\n",
    "    '''\n",
    "    Reconstruction of b from bz\n",
    "    *************************** Input parameters *****************************************\n",
    "     n=[n1,n2,...,nM]     number of BT_blocks at each level, where M is the number of BT levels. 1D np.array with size M, dtype=int\n",
    "     f                    size of final dense f*f matrix (e.g., f=3 for 3*3 matrix)\n",
    "     bz                   input vector\n",
    "     *************************** Output ***************************************************\n",
    "     b                    output vector (trimmed)\n",
    "     ***************************************************************************************/\n",
    "     '''\n",
    "    b= np.zeros(0,dtype=complex)\n",
    "    if len(n) < 1 :\n",
    "        for i in range(f, f*f+1, f) :\n",
    "            b= np.pad(b, (0, 1))\n",
    "            b[-1]= bz[i-1]\n",
    "        return b\n",
    "    else :\n",
    "        b_edge= f*f*np.prod(2*n[1:]-1)\n",
    "        this_n= n[0]\n",
    "        for i in range(this_n, 2*this_n) :\n",
    "            lenb_old= len(b)\n",
    "            lenblk= len(BT_reconstruct(n[1:],f,bz[(i-1)*b_edge:i*b_edge]))\n",
    "            lenb= lenb_old+lenblk\n",
    "            b= np.pad(b,(0,lenb-lenb_old))\n",
    "            b[lenb_old:lenb]= np.zeros(lenb-lenb_old, dtype=complex)\n",
    "            b[lenb_old:lenb_old+lenblk]= BT_reconstruct(n[1:],f,bz[(i-1)*b_edge:i*b_edge])\n",
    "        return b\n"
   ]
  },
  {
   "cell_type": "code",
   "execution_count": 666,
   "metadata": {},
   "outputs": [],
   "source": [
    "def MBT_fft_init(n,f,lf,k):\n",
    "    '''\n",
    "    Prepare the fourier-transformed MBT projection of MBT matrix\n",
    "    *************************** Input parameters *****************************************\n",
    "     n=[n1,n2,...,nM]     number of BT_blocks at each level, where M is the number of BT levels. 1D np.array with size M, dtype=int\n",
    "     f                    size of final dense f*f matrix (e.g., f=3 for 3*3 matrix)\n",
    "     lf                   physical length per lattice spacing (length scale factor)\n",
    "     k                    wavenumber in medium\n",
    "     *************************** Output ***************************************************\n",
    "     Au_til                result vector\n",
    "     ***************************************************************************************/\n",
    "    '''\n",
    "\n",
    "    n_ind_init= np.ones((2,len(n)),dtype=int)\n",
    "    fft_length= f*f*np.prod(2*n-1)\n",
    "\n",
    "    level_init= 1\n",
    "    # MBT projection of MBT matrix A\n",
    "    Au= BT_fft(n,f,n_ind_init,level_init,lf,k)\n",
    "\n",
    "    if fft_length != len(Au) :\n",
    "        raise ValueError(\"Au length wrong!\")\n",
    "    \n",
    "    Au= Au[::-1] #reverse the order\n",
    "\n",
    "    # fft using numpy\n",
    "    Au_til= np.fft.fft(Au)\n",
    "\n",
    "    return Au_til\n",
    "\n"
   ]
  },
  {
   "cell_type": "code",
   "execution_count": null,
   "metadata": {},
   "outputs": [],
   "source": []
  },
  {
   "cell_type": "code",
   "execution_count": 667,
   "metadata": {},
   "outputs": [],
   "source": [
    "n= np.array([2,2,2],dtype=int)\n",
    "f=3\n",
    "lf=1\n",
    "k=1\n",
    "\n",
    "## MBT projection of the non-diagonal block of DDA matrix\n",
    "Au_til= MBT_fft_init(n,f,lf,k)\n"
   ]
  },
  {
   "cell_type": "code",
   "execution_count": 668,
   "metadata": {},
   "outputs": [
    {
     "data": {
      "text/plain": [
       "24"
      ]
     },
     "execution_count": 668,
     "metadata": {},
     "output_type": "execute_result"
    }
   ],
   "source": [
    "p_hat= np.arange(1, f*np.prod(n)+1, dtype=complex)\n",
    "p_hat.size"
   ]
  },
  {
   "cell_type": "code",
   "execution_count": 669,
   "metadata": {},
   "outputs": [
    {
     "data": {
      "text/plain": [
       "162"
      ]
     },
     "execution_count": 669,
     "metadata": {},
     "output_type": "execute_result"
    }
   ],
   "source": [
    "p_hatz= BT_pad(n,f,p_hat)\n",
    "p_hatz.size"
   ]
  },
  {
   "cell_type": "code",
   "execution_count": 670,
   "metadata": {},
   "outputs": [
    {
     "data": {
      "text/plain": [
       "24"
      ]
     },
     "execution_count": 670,
     "metadata": {},
     "output_type": "execute_result"
    }
   ],
   "source": [
    "fft_length= len(Au_til)\n",
    "p_hatz= np.pad(p_hatz,(0,fft_length-len(p_hatz)))\n",
    "\n",
    "p_hatz_til= np.fft.fft(p_hatz)\n",
    "q_hatz_til= Au_til*p_hatz_til\n",
    "q_hatz= np.fft.ifft(q_hatz_til) \n",
    "\n",
    "q_hat= BT_reconstruct(n,f,q_hatz)\n",
    "\n",
    "q_hat.size"
   ]
  },
  {
   "cell_type": "code",
   "execution_count": null,
   "metadata": {},
   "outputs": [],
   "source": []
  }
 ],
 "metadata": {
  "kernelspec": {
   "display_name": "myenv",
   "language": "python",
   "name": "python3"
  },
  "language_info": {
   "codemirror_mode": {
    "name": "ipython",
    "version": 3
   },
   "file_extension": ".py",
   "mimetype": "text/x-python",
   "name": "python",
   "nbconvert_exporter": "python",
   "pygments_lexer": "ipython3",
   "version": "3.10.11"
  },
  "orig_nbformat": 4
 },
 "nbformat": 4,
 "nbformat_minor": 2
}
