{
 "cells": [
  {
   "cell_type": "code",
   "execution_count": 1,
   "metadata": {},
   "outputs": [],
   "source": [
    "import h5py\n",
    "import numpy as np"
   ]
  },
  {
   "cell_type": "code",
   "execution_count": 2,
   "metadata": {},
   "outputs": [],
   "source": [
    "# Vacuum wavelength [um]\n",
    "wl_0= 0.8337  \n",
    "\n",
    "#Calcite Uniaxial, negative\n",
    "m_p_x= 1.658+0j\n",
    "m_p_y= 1.658+0j\n",
    "m_p_z= 1.486+0j\n",
    "m_p_xyz= [m_p_x, m_p_y, m_p_z]\n",
    "\n",
    "# list of refractive index of medium \n",
    "m_m_list= [1.00, 1.329]\n",
    "#m_m_list= [1.00]\n",
    "\n",
    "r_v_base_list= [0.3,0.4] # [um] list of r_v_base grid points\n",
    "bc_ratio_list= [1] # list of bc ratio grid points\n",
    "ab_ratio_list= [1] # list of ab ratio grid points\n",
    "gre_beta_list= [0]  # list of beta grid points\n",
    "\n",
    "num_orientations= 400  # sets of euler angles (alpha,beta,gamma) \n",
    "\n",
    "filename= \"pcas_ocbs_simulated_data.hdf5\"\n",
    "\n",
    "with h5py.File(filename, \"w\") as f:\n",
    "    grp_target= f.create_group(\"target\")\n",
    "    grp_target.attrs['light_source']= 'Thorlabs SLD830S-A10 operated at I=140mA, T=25C, center wavelength was 0.8337um.'\n",
    "    grp_target.attrs['polarization state']= 'left-handed circulat polarization with Jones vector: E0_inc_x(theta)= 1/np.sqrt(2), E0_inc_y(phi)= 1j/np.sqrt(2)'\n",
    "    grp_target.attrs['wl_0_um']= wl_0\n",
    "    grp_target.attrs['num_orientations']= num_orientations\n",
    " \n",
    "    dset_m_p_xyz= grp_target.create_dataset(\"m_p_xyz\", data= m_p_xyz, dtype=np.complex128)\n",
    "    dset_m_m= grp_target.create_dataset(\"m_m_list\", data= m_m_list, dtype=np.float64)\n",
    "    dset_r_v_base= grp_target.create_dataset(\"r_v_base_list\", data= r_v_base_list, dtype=np.float64)\n",
    "    dset_bc_ratio= grp_target.create_dataset(\"bc_ratio_list\", data= bc_ratio_list, dtype=np.float64)\n",
    "    dset_ab_ratio= grp_target.create_dataset(\"ab_ratio_list\", data= ab_ratio_list, dtype=np.float64)\n",
    "    dset_gre_beta= grp_target.create_dataset(\"gre_beta_list\", data= gre_beta_list, dtype=np.float64)\n",
    "    dset_euler_angles= grp_target.create_dataset(\"euler_angles\", data= np.zeros((num_orientations,3),dtype=np.float64))\n",
    "    dset_euler_angles.attrs['definition']= 'Euler angles (alpha, beta, gamma) of rotation of the particle frame from the laboratory frame, where 0 <= alpha < 2pi, 0 <= beta < pi, 0 <= gamma < 2pi'\n",
    "\n",
    "    grp_simulated_data= grp_target.create_group(\"simulated_data\")\n",
    "    grp_simulated_data.attrs['scattering calculations']='discrete dipole approximation: block-DDA_Py'\n",
    "    grp_simulated_data.attrs['particle orientation']='ramdomly chosen sets of Euler angles (alpha, beta, gamma) where 0 <= alpha < 2pi, 0 <= beta < pi, 0 <= gamma < 2pi'\n",
    "    grp_simulated_data.attrs['units']='r_ve:[um], euler_angles:[radian], C_abs and Cext:[um2], S:[um]'\n",
    "    grp_simulated_data.attrs['definition of the complex amplitude S']= 'S(0)_theta:= S11(0)+1j*S12(0), S(0)_phi:= S22(0)-1j*S21(0), S(180):= (S11(180)+S22(180)+1j*S12(180)-1j*S21(180))/np.sqrt(2), where S11, S12, S21, S22 is the element of amplitude scattering matrix defined in Mischenko textbook 2000'\n",
    "\n",
    "    dset_r_ve= grp_simulated_data.create_dataset(\"r_ve\",(len(r_v_base_list), len(bc_ratio_list), len(ab_ratio_list), len(gre_beta_list)), dtype=np.float64)\n",
    "    dset_r_ve.attrs['definition']= 'volume equivalent radius [um] calculated from the discretized particle volume'\n",
    "    \n",
    "    dset_C_abs= grp_simulated_data.create_dataset(\"C_abs\",(len(m_m_list), len(r_v_base_list), len(bc_ratio_list), len(ab_ratio_list), len(gre_beta_list), num_orientations), dtype=np.float64)\n",
    "    dset_C_abs.attrs['definition']= 'absorption cross section [um2]'\n",
    "    dset_C_ext= grp_simulated_data.create_dataset(\"C_ext\",(len(m_m_list), len(r_v_base_list), len(bc_ratio_list), len(ab_ratio_list), len(gre_beta_list), num_orientations), dtype=np.float64)\n",
    "    dset_C_ext.attrs['definition']= 'extinction cross section [um2]'\n",
    "    dset_S_fw_PCAS_theta= grp_simulated_data.create_dataset(\"S_fw_PCAS_theta\",(len(m_m_list), len(r_v_base_list), len(bc_ratio_list), len(ab_ratio_list), len(gre_beta_list), num_orientations), dtype=np.complex128)\n",
    "    dset_S_fw_PCAS_theta.attrs['definition']= 'S(0)_theta [um], the forward-scattering amplitudes of s-pol(along theta-vector) channel'\n",
    "    dset_S_fw_PCAS_phi= grp_simulated_data.create_dataset(\"S_fw_PCAS_phi\",(len(m_m_list), len(r_v_base_list), len(bc_ratio_list), len(ab_ratio_list), len(gre_beta_list), num_orientations), dtype=np.complex128)\n",
    "    dset_S_fw_PCAS_phi.attrs['definition']= 'S(0)_phi [um], the forward-scattering amplitudes of p-pol(along phi-vector) channel'\n",
    "    dset_S_bk_OCBS= grp_simulated_data.create_dataset(\"S_bk_OCBS\",(len(m_m_list), len(r_v_base_list), len(bc_ratio_list), len(ab_ratio_list), len(gre_beta_list), num_orientations), dtype=np.complex128)\n",
    "    dset_S_bk_OCBS.attrs['definition']= 'the complex backward-scattering amplitude S(180) [um]'\n",
    "\n",
    "    dset_C_abs_mie= grp_simulated_data.create_dataset(\"C_abs_mie\",(len(m_m_list), len(r_v_base_list), len(bc_ratio_list), len(ab_ratio_list), len(gre_beta_list)), dtype=np.float64)\n",
    "    dset_C_abs_mie.attrs['definition']= 'absorption cross section [um2] of the volume-equivalent sphere of the target shape'\n",
    "    dset_C_ext_mie= grp_simulated_data.create_dataset(\"C_ext_mie\",(len(m_m_list), len(r_v_base_list), len(bc_ratio_list), len(ab_ratio_list), len(gre_beta_list)), dtype=np.float64)\n",
    "    dset_C_ext_mie.attrs['definition']= 'extinction cross section [um2] of the volume-equivalent sphere of the target shape'\n",
    "    dset_S_fw_PCAS_mie= grp_simulated_data.create_dataset(\"S_fw_PCAS_mie\",(len(m_m_list), len(r_v_base_list), len(bc_ratio_list), len(ab_ratio_list), len(gre_beta_list)), dtype=np.complex128)\n",
    "    dset_S_fw_PCAS_mie.attrs['definition']= 'complex forward-scattering amplitude S(0) of the volume-equivalent sphere of the target shape'\n",
    "    dset_S_bk_OCBS_mie= grp_simulated_data.create_dataset(\"S_bk_OCBS_mie\",(len(m_m_list), len(r_v_base_list), len(bc_ratio_list), len(ab_ratio_list), len(gre_beta_list)), dtype=np.complex128)\n",
    "    dset_S_bk_OCBS_mie.attrs['definition']= 'the complex backward-scattering amplitude S(180) of the volume-equivalent sphere of the target shape'\n",
    "    "
   ]
  },
  {
   "cell_type": "code",
   "execution_count": 3,
   "metadata": {},
   "outputs": [],
   "source": [
    "f= h5py.File(filename, \"a\")"
   ]
  },
  {
   "cell_type": "code",
   "execution_count": 4,
   "metadata": {},
   "outputs": [
    {
     "data": {
      "text/plain": [
       "<KeysViewHDF5 ['ab_ratio_list', 'bc_ratio_list', 'euler_angles', 'gre_beta_list', 'm_m_list', 'm_p_xyz', 'r_v_base_list', 'simulated_data']>"
      ]
     },
     "execution_count": 4,
     "metadata": {},
     "output_type": "execute_result"
    }
   ],
   "source": [
    "f['target'].keys()"
   ]
  },
  {
   "cell_type": "code",
   "execution_count": 5,
   "metadata": {},
   "outputs": [
    {
     "data": {
      "text/plain": [
       "array([[[0.]]])"
      ]
     },
     "execution_count": 5,
     "metadata": {},
     "output_type": "execute_result"
    }
   ],
   "source": [
    "f['target']['simulated_data']['r_ve'][0]"
   ]
  },
  {
   "cell_type": "code",
   "execution_count": 6,
   "metadata": {},
   "outputs": [
    {
     "data": {
      "text/plain": [
       "array([1.658+0.j, 1.658+0.j, 1.486+0.j])"
      ]
     },
     "execution_count": 6,
     "metadata": {},
     "output_type": "execute_result"
    }
   ],
   "source": [
    "f['target']['m_p_xyz'][:]"
   ]
  },
  {
   "cell_type": "code",
   "execution_count": 7,
   "metadata": {},
   "outputs": [],
   "source": [
    "f['target']['simulated_data']['r_ve'][:,:,:,:]=0"
   ]
  },
  {
   "cell_type": "code",
   "execution_count": 8,
   "metadata": {},
   "outputs": [
    {
     "data": {
      "text/plain": [
       "np.float64(0.8337)"
      ]
     },
     "execution_count": 8,
     "metadata": {},
     "output_type": "execute_result"
    }
   ],
   "source": [
    "f['target'].attrs['wl_0_um']"
   ]
  },
  {
   "cell_type": "code",
   "execution_count": 9,
   "metadata": {},
   "outputs": [],
   "source": [
    "f.close()"
   ]
  },
  {
   "cell_type": "code",
   "execution_count": null,
   "metadata": {},
   "outputs": [],
   "source": []
  },
  {
   "cell_type": "code",
   "execution_count": null,
   "metadata": {},
   "outputs": [],
   "source": []
  }
 ],
 "metadata": {
  "kernelspec": {
   "display_name": "myenv",
   "language": "python",
   "name": "python3"
  },
  "language_info": {
   "codemirror_mode": {
    "name": "ipython",
    "version": 3
   },
   "file_extension": ".py",
   "mimetype": "text/x-python",
   "name": "python",
   "nbconvert_exporter": "python",
   "pygments_lexer": "ipython3",
   "version": "3.12.8"
  },
  "orig_nbformat": 4
 },
 "nbformat": 4,
 "nbformat_minor": 2
}
