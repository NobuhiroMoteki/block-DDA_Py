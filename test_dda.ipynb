{
 "cells": [
  {
   "cell_type": "code",
   "execution_count": 1,
   "metadata": {},
   "outputs": [],
   "source": [
    "import numpy as np\n",
    "from shape_model.gaussian_ellipsoid import gaussian_ellipsoid_shape_model\n",
    "from analytical_scattering_theories.homogeneous_sphere import mie_compute_q_and_s\n",
    "from bl_dda.scatterer import Target, IncidentField, DiscreteDipoles\n",
    "\n"
   ]
  },
  {
   "cell_type": "code",
   "execution_count": 2,
   "metadata": {},
   "outputs": [],
   "source": [
    "# Define the ellipsoid parameters a >= b >= c\n",
    "#### length_unit= um ###\n",
    "r_v_base= 0.2 # allowed range = [0.1, 0.5], volume equivalent radius of base ellipsoid\n",
    "bc_ratio= 1 # allowed range = [1.0, 5], b/c ratio of base ellipsoid\n",
    "ab_ratio= 1 # allowed range = [1.0, 2.0], a/b ratio of base ellipsoid\n",
    "beta= 0.0 # standard deviation of GE surface deformation, allowed range= [0, 0.3]"
   ]
  },
  {
   "cell_type": "code",
   "execution_count": 3,
   "metadata": {},
   "outputs": [],
   "source": [
    "gre_shape_model= gaussian_ellipsoid_shape_model(r_v_base, bc_ratio, ab_ratio, beta)"
   ]
  },
  {
   "cell_type": "code",
   "execution_count": 4,
   "metadata": {},
   "outputs": [],
   "source": [
    "rng= np.random.default_rng(1234)\n",
    "r_points_on_GRE_surf, xyz_meshes_GRE_surf = gre_shape_model.compute_r_points_on_GRE(rng)\n",
    "lattice_domain, lattice_n, lattice_grid_points= gre_shape_model.create_cuboid_lattice_that_encloses_GRE_shape(r_points_on_GRE_surf)\n",
    "dist_from_GRE= gre_shape_model.find_nearest_distance_from_the_GRE_surf(lattice_grid_points, r_points_on_GRE_surf)\n",
    "lattice_grid_points_is_in_target= gre_shape_model.extract_lattice_address_in_GRE_volume(gre_shape_model.lattice_lf, gre_shape_model.distance_factor, lattice_n, dist_from_GRE)"
   ]
  },
  {
   "cell_type": "code",
   "execution_count": null,
   "metadata": {},
   "outputs": [],
   "source": [
    "wl_0= 0.834\n",
    "#m_m=1.329\n",
    "m_m=1.0\n",
    "\n",
    "'''\n",
    "#### Refractive index data of minerals from mindat.org (@ mid-visible wavelength)\n",
    "#Quartz Uniaxial, positive\n",
    "m_p_x= 1.544+0j\n",
    "m_p_y= 1.544+0j\n",
    "m_p_z= 1.553+0j\n",
    "\n",
    "#Mica(Muscovite) Biaxial\n",
    "# m_p_x= 1.564+0j\n",
    "# m_p_y= 1.599+0j\n",
    "# m_p_z= 1.603+0j\n",
    "\n",
    "#Kaolinite Biaxial\n",
    "m_p_x= 1.558+0j\n",
    "m_p_y= 1.564+0j\n",
    "m_p_z= 1.565+0j\n",
    "\n",
    "#Calcite Uniaxial, negative\n",
    "m_p_x= 1.658+0j\n",
    "m_p_y= 1.658+0j\n",
    "m_p_z= 1.486+0j\n",
    "\n",
    "#Aragonite Biaxial\n",
    "m_p_x= 1.5295+0j\n",
    "m_p_y= 1.681+0j\n",
    "m_p_z= 1.6855+0j\n",
    "'''\n",
    "\n",
    "'''\n",
    "#Bacteria\n",
    "m_p_x= 1.36+0j\n",
    "m_p_y= 1.36+0j\n",
    "m_p_z= 1.36+0j\n",
    "\n",
    "#Organics\n",
    "m_p_x= 1.5+0j\n",
    "m_p_y= 1.5+0j\n",
    "m_p_z= 1.5+0j\n",
    "'''\n",
    "\n",
    "m_p_x= 1.58+0j\n",
    "m_p_y= 1.58+0j\n",
    "m_p_z= 1.58+0j\n",
    "\n",
    "\n",
    "m_p_xyz= np.array([m_p_x, m_p_y, m_p_z], dtype=np.complex64)\n",
    "\n",
    "m_p_avg= (m_p_x+m_p_y+m_p_z)/3\n",
    "#m_p_xyz= np.array([m_p_avg, m_p_avg, m_p_avg], dtype=np.complex64)\n",
    "m_p_avg"
   ]
  },
  {
   "cell_type": "code",
   "execution_count": null,
   "metadata": {},
   "outputs": [],
   "source": [
    "\n",
    "target= Target(gre_shape_model.name, lattice_n, gre_shape_model.lattice_lf, lattice_grid_points, lattice_grid_points_is_in_target, m_p_xyz)\n",
    "lattice_n\n",
    "# np.prod(lattice_n)= 269705\n",
    "lattice_n, np.prod(lattice_n)"
   ]
  },
  {
   "cell_type": "code",
   "execution_count": null,
   "metadata": {},
   "outputs": [],
   "source": [
    "rng= np.random.default_rng()\n",
    "number_of_orientations= 10\n",
    "euler_alpha_deg= rng.uniform(0,360, number_of_orientations).reshape(number_of_orientations,1)\n",
    "euler_beta_deg= rng.uniform(0,180, number_of_orientations).reshape(number_of_orientations,1)\n",
    "euler_gamma_deg= rng.uniform(0,360, number_of_orientations).reshape(number_of_orientations,1)\n",
    "\n",
    "# euler_alpha_deg= np.array([0,45+180], dtype=np.float32).reshape(number_of_orientations,1)\n",
    "# euler_beta_deg= np.array([0,30], dtype=np.float32).reshape(number_of_orientations,1)\n",
    "# euler_gamma_deg= np.array([0,0], dtype=np.float32).reshape(number_of_orientations,1)\n",
    "\n",
    "euler_angles_radian= np.radians(np.hstack((euler_alpha_deg,euler_beta_deg,euler_gamma_deg)))\n",
    "\n",
    "incident_field= IncidentField(wl_0, m_m, euler_angles_radian)\n",
    "\n",
    "np.hstack((euler_alpha_deg,euler_beta_deg,euler_gamma_deg))"
   ]
  },
  {
   "cell_type": "code",
   "execution_count": null,
   "metadata": {},
   "outputs": [],
   "source": [
    "discrete_dipoles= DiscreteDipoles(target, incident_field)"
   ]
  },
  {
   "cell_type": "code",
   "execution_count": 9,
   "metadata": {},
   "outputs": [],
   "source": [
    "discrete_dipoles.set_interaction_matrix()"
   ]
  },
  {
   "cell_type": "code",
   "execution_count": null,
   "metadata": {},
   "outputs": [],
   "source": [
    "discrete_dipoles.solve_matrix_equation()\n",
    "\n",
    "#ray version nprocs=4, 42.7s \n",
    "#ray version nprocs=8, 34s \n",
    "#nonray version , 1m36.3s\n"
   ]
  },
  {
   "cell_type": "code",
   "execution_count": null,
   "metadata": {},
   "outputs": [],
   "source": [
    "r_p= discrete_dipoles.ve_radius\n",
    "r_p= r_v_base\n",
    "m_p_avg= (m_p_x+m_p_y+m_p_z)/3\n",
    "Q_sca_mie, Q_abs_mie, Q_ext_mie, S_fw_PCAS_mie, S_bk_OCBS_mie = mie_compute_q_and_s(wl_0,m_m,r_p,m_p_avg,nang=3)\n",
    "Q_ext_mie, S_fw_PCAS_mie, S_bk_OCBS_mie"
   ]
  },
  {
   "cell_type": "code",
   "execution_count": null,
   "metadata": {},
   "outputs": [],
   "source": [
    "C_abs= discrete_dipoles.compute_C_abs()\n",
    "Q_abs= C_abs/(np.pi*discrete_dipoles.ve_radius**2)\n",
    "Q_abs/Q_abs_mie, Q_abs, Q_abs_mie"
   ]
  },
  {
   "cell_type": "code",
   "execution_count": null,
   "metadata": {},
   "outputs": [],
   "source": [
    "C_ext= discrete_dipoles.compute_C_ext()\n",
    "Q_ext= C_ext/(np.pi*discrete_dipoles.ve_radius**2)\n",
    "Q_ext/Q_ext_mie"
   ]
  },
  {
   "cell_type": "code",
   "execution_count": null,
   "metadata": {},
   "outputs": [],
   "source": [
    "S_fw_PCAS_theta_P, S_fw_PCAS_phi_P= discrete_dipoles.compute_PCAS_observable_S_fw()\n",
    "S_fw_PCAS_theta_P, S_fw_PCAS_mie"
   ]
  },
  {
   "cell_type": "code",
   "execution_count": null,
   "metadata": {},
   "outputs": [],
   "source": [
    "S_fw_PCAS_phi_P, S_fw_PCAS_mie"
   ]
  },
  {
   "cell_type": "code",
   "execution_count": 16,
   "metadata": {},
   "outputs": [],
   "source": [
    "S_bk_OCBS_P= discrete_dipoles.compute_OCBS_observable_S_bk()"
   ]
  },
  {
   "cell_type": "code",
   "execution_count": null,
   "metadata": {},
   "outputs": [],
   "source": [
    "S_bk_OCBS_P, S_bk_OCBS_mie\n"
   ]
  },
  {
   "cell_type": "code",
   "execution_count": 18,
   "metadata": {},
   "outputs": [],
   "source": [
    "ReS_PCAS_sp_avg, ImS_PCAS_sp_avg, ReS_PCAS_sp_avg_SNR, ImS_PCAS_sp_avg_SNR, ReS_PCAS_depol, ImS_PCAS_depol, ReS_PCAS_depol_SNR, ImS_PCAS_depol_SNR= discrete_dipoles.compute_PCAS_observable_S_fw_and_its_SNR()"
   ]
  },
  {
   "cell_type": "code",
   "execution_count": null,
   "metadata": {},
   "outputs": [],
   "source": [
    "ReS_PCAS_sp_avg, ImS_PCAS_sp_avg"
   ]
  },
  {
   "cell_type": "code",
   "execution_count": null,
   "metadata": {},
   "outputs": [],
   "source": [
    "ReS_PCAS_sp_avg_SNR, ImS_PCAS_sp_avg_SNR"
   ]
  },
  {
   "cell_type": "code",
   "execution_count": null,
   "metadata": {},
   "outputs": [],
   "source": [
    "ReS_PCAS_depol, ImS_PCAS_depol"
   ]
  },
  {
   "cell_type": "code",
   "execution_count": null,
   "metadata": {},
   "outputs": [],
   "source": [
    "ReS_PCAS_depol_SNR, ImS_PCAS_depol_SNR\n",
    "\n",
    "# alpha=45, beta=30\n",
    "# (array([9.7035768e-04, 9.7920007e-01], dtype=float32),\n",
    "#  array([0.00339985, 2.5137208 ], dtype=float32))\n"
   ]
  }
 ],
 "metadata": {
  "kernelspec": {
   "display_name": "myenv",
   "language": "python",
   "name": "python3"
  },
  "language_info": {
   "codemirror_mode": {
    "name": "ipython",
    "version": 3
   },
   "file_extension": ".py",
   "mimetype": "text/x-python",
   "name": "python",
   "nbconvert_exporter": "python",
   "pygments_lexer": "ipython3",
   "version": "3.10.11"
  },
  "orig_nbformat": 4
 },
 "nbformat": 4,
 "nbformat_minor": 2
}
